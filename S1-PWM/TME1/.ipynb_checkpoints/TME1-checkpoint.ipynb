{
 "cells": [
  {
   "cell_type": "markdown",
   "metadata": {},
   "source": [
    "\n",
    "<h1><b>Statistique en Bioinformatique : </b> TME1 </h1>\n",
    "<br>\n",
    "L’objectif de ce TME est l’analyse statistique d’une famille de protéines à travers son alignement de séquences:\n",
    "<br>\n",
    "<ul>\n",
    "<li> objectif 1: détection des positions conservées, </li>\n",
    "<li> objectif 2: détection de séquences qui appartiennent à la même famille, </li>\n",
    "</ul>\n",
    "<vr>\n",
    "<div class=\"alert alert-warning\" role=\"alert\" style=\"margin: 10px\">\n",
    "<p>**Soumission**</p>\n",
    "<ul>\n",
    "<li>Renomer le fichier TME1.ipynb pour TME1_NomEtudiant1_NomEtudiant2.ipynb </li>\n",
    "<li>Soumettre à https://www.dropbox.com/request/ZylCDDpggbrN5toTiJKV </li>\n",
    "</ul>\n",
    "</div>"
   ]
  },
  {
   "cell_type": "markdown",
   "metadata": {},
   "source": [
    "Nom etudiant 1 : paul saighi\n",
    "<br>\n",
    "Nom etudiant 2 : rémy vanderhaegen\n",
    "<br>"
   ]
  },
  {
   "cell_type": "markdown",
   "metadata": {},
   "source": [
    "<b>DONNÉES</b> <br>\n",
    "Il y a 2 fichiers avec les données telecharché à (<a href=\"http://www.lcqb.upmc.fr/julianab/teaching/SBAS/TME1.tar.gz\"> TME1 </a> ): <br>\n",
    "<ul>\n",
    "<li> Dtrain.txt: C’est un alignement de M = 5643 protéines d’une seule famille en format FASTA,\n",
    "<br>\n",
    "    Lignes qui commencent avec “>” contiennent des commentaires (nome de la protéine etc.). Elles n’ont aucune importance pour notre projet. Les autres lignes contiennent les séquences, que l’on va utiliser dans le projet. Les séquences sont alignées, elles ont toutes la même longueur (L = 48 positions dans notre fichier). Chaque position i = 0, ..., L − 1 d'une séquence contient ou une acide aminé (A,C,...,Y, il y en a 20) ou un trou (–), que l'on considère comme 21ème lettre. Ensemble elles forment l'alphabet: \n",
    "    A =  {A, C, D, E, F, G, H, I, K, L, M, N, P, Q, R, S, T, V, W, Y, -}, avec q = 21 lettres différentes.\n",
    "</li>\n",
    "    <br>\n",
    "<li> testseq.txt:  testseq.txt: Même format de Dtrain.txt, mais avec une seule séquence b = (b0 , ..., bN −1 ) plus longue (longueur N = 114 > L). On va scanner cette séquence pour trouver une sous-séquence qui appartient à la famille definie par Dtrain.txt. </li>\n",
    "</ul>"
   ]
  },
  {
   "cell_type": "markdown",
   "metadata": {},
   "source": [
    "Exercise 1: Pour chaque position du alignement i = 0, ..., L − 1 et chaque acide aminée a ∈ A (le trou compris), calculer le nombre d’occurence ni(a) et le poid ωi(a), òu : <br>\n",
    "\\begin{equation*}\n",
    "\\label{eq1}\n",
    "n_{i}(a) = \\textrm{nombre d’occurences d’acide aminée a en position (colonne) i}.\n",
    "\\end{equation*}\n",
    "\n",
    "<br>\n",
    "\\begin{equation*}\n",
    "\\omega_i(a) = \\frac{n_i(a)+1}{M+q}\\ .\n",
    "\\end{equation*}"
   ]
  },
  {
   "cell_type": "code",
   "execution_count": 1,
   "metadata": {},
   "outputs": [],
   "source": [
    "import sys\n",
    "import numpy as np\n",
    "aa = ['A', 'C', 'D', 'E', 'F', 'G', 'H', 'I', 'K', 'L', 'M', 'N', 'P', 'Q', 'R', 'S', 'T', 'V', 'W', 'Y', '-']\n",
    "q = 21\n",
    "#aa = ['A', 'B', 'C', '-']\n",
    "#q = 4\n",
    "#aa = ['A', 'G', 'C', 'T', '-']\n",
    "#q = 5"
   ]
  },
  {
   "cell_type": "code",
   "execution_count": 2,
   "metadata": {},
   "outputs": [],
   "source": [
    "#load path Files\n",
    "input_dataset_f = 'Dtrain.txt'\n",
    "input_sequence_f = 'test_seq.txt'\n",
    "#input_dataset_f = 'DtrainToy.txt'\n",
    "#input_sequence_f = 'test_seqToy.txt'\n",
    "#input_dataset_f = 'DtrainToyTD.txt'"
   ]
  },
  {
   "cell_type": "code",
   "execution_count": 3,
   "metadata": {},
   "outputs": [],
   "source": [
    "#load DTrain File\n",
    "def parse(inputs):\n",
    "    file = open(inputs, \"r\") \n",
    "    l= True\n",
    "    sequences = []\n",
    "    while l:\n",
    "        l=file.readline()\n",
    "        if len(l)>1 and l[0]!='>':\n",
    "            sequences.append(l[:-1])\n",
    "    file.close()\n",
    "    return sequences\n",
    "sequences=parse(input_dataset_f)\n",
    "\n"
   ]
  },
  {
   "cell_type": "code",
   "execution_count": 4,
   "metadata": {},
   "outputs": [],
   "source": [
    "def weight(q,sequences):\n",
    "    A = np.ones((q,len(sequences[0])))\n",
    "    divise= q + len(sequences)\n",
    "    for i in range(len(sequences)):\n",
    "        for j in range(len(sequences[i])):\n",
    "            A[aa.index(sequences[i][j]),j]+=1\n",
    " \n",
    "    return A/divise "
   ]
  },
  {
   "cell_type": "code",
   "execution_count": 5,
   "metadata": {},
   "outputs": [
    {
     "data": {
      "text/plain": [
       "array([[1.76553672e-04, 7.25282486e-01, 1.02401130e-02, ...,\n",
       "        3.42514124e-02, 1.76553672e-04, 2.38170904e-01],\n",
       "       [1.76553672e-04, 1.76553672e-04, 1.94209040e-03, ...,\n",
       "        7.59180791e-03, 1.76553672e-04, 1.69491525e-02],\n",
       "       [1.76553672e-04, 1.76553672e-04, 3.53107345e-04, ...,\n",
       "        1.76553672e-04, 1.76553672e-04, 1.76553672e-04],\n",
       "       ...,\n",
       "       [1.76553672e-04, 1.76553672e-04, 1.76553672e-04, ...,\n",
       "        1.76553672e-04, 1.76553672e-04, 1.76553672e-04],\n",
       "       [1.76553672e-04, 1.76553672e-04, 1.76553672e-04, ...,\n",
       "        1.78319209e-02, 1.76553672e-04, 1.76553672e-04],\n",
       "       [3.13206215e-01, 1.55367232e-01, 8.20974576e-02, ...,\n",
       "        5.66737288e-02, 6.77966102e-02, 3.53460452e-01]])"
      ]
     },
     "execution_count": 5,
     "metadata": {},
     "output_type": "execute_result"
    }
   ],
   "source": [
    "A=weight(q,sequences)\n",
    "A"
   ]
  },
  {
   "cell_type": "markdown",
   "metadata": {},
   "source": [
    "Exercise 2: Trouvez les positions les plus conservées en utilisant l’entropie relative.\n",
    "<br>\n",
    "2.1) Pour chaque position i = 0, ..., L − 1, determiner l’entropie relative Si<br>\n",
    "\\begin{equation*}\n",
    "\\label{eq:entropie}\n",
    "S_i = \\log_2(q) + \\sum_{a\\in {\\cal A}} \\omega_i(a)\\cdot \\log_2\\left[\\omega_i(a) \\right]\\ .\n",
    "\\end{equation*}\n",
    "<br>\n"
   ]
  },
  {
   "cell_type": "code",
   "execution_count": 6,
   "metadata": {},
   "outputs": [],
   "source": [
    "#Computing Si\n",
    "Si = []\n",
    "for i in range(len(sequences[0])):\n",
    "    s = 0\n",
    "    for j in range(q):\n",
    "        s += A[j,i]*np.log2(A[j,i])\n",
    "    Si.append(np.log2(q) + s)\n"
   ]
  },
  {
   "cell_type": "markdown",
   "metadata": {},
   "source": [
    "2.2) Indiquez les acides aminees (ai*) des trois positions les plus conservées : \n",
    "\\begin{equation}\n",
    "\\label{eq:conserved}\n",
    "a_i^\\star = {\\rm argmax}_{a\\in {\\cal A}} \\omega_i(a)\\ .\n",
    "\\end{equation}"
   ]
  },
  {
   "cell_type": "code",
   "execution_count": 17,
   "metadata": {},
   "outputs": [
    {
     "name": "stdout",
     "output_type": "stream",
     "text": [
      "[31, 45, 42] ['W', 'F', 'T']\n"
     ]
    }
   ],
   "source": [
    "#computing ai*\n",
    "Scopy= Si.copy()\n",
    "ind = []\n",
    "for i in range(3):\n",
    "    tmp = np.max(np.abs(Scopy))\n",
    "    ind.append(Scopy.index(tmp))\n",
    "    Scopy.pop(Scopy.index(tmp))\n",
    "acides = []\n",
    "\n",
    "for i in ind:\n",
    "    \n",
    "    acides.append(aa[np.argmax(A[:,i])])\n",
    "print(ind,acides)"
   ]
  },
  {
   "cell_type": "markdown",
   "metadata": {},
   "source": [
    "2.3) Tracer l’entropie rélative en fonction de chaque position i."
   ]
  },
  {
   "cell_type": "code",
   "execution_count": 14,
   "metadata": {},
   "outputs": [
    {
     "data": {
      "text/plain": [
       "[<matplotlib.lines.Line2D at 0x7f5d4a4fcda0>]"
      ]
     },
     "execution_count": 14,
     "metadata": {},
     "output_type": "execute_result"
    },
    {
     "data": {
      "image/png": "[encoded data removed]",
      "text/plain": [
       "<Figure size 432x288 with 1 Axes>"
      ]
     },
     "metadata": {
      "needs_background": "light"
     },
     "output_type": "display_data"
    }
   ],
   "source": [
    "import matplotlib.pyplot as plt\n",
    "plt.plot(Si)\n"
   ]
  },
  {
   "cell_type": "markdown",
   "metadata": {},
   "source": [
    "Exercise 3: Déterminer les paramètres f(0)(b) du modèle nul, où\n",
    "\\begin{equation}\n",
    "f^{(0)}(b) = \\frac 1L \\sum_{i=0}^{L-1} \\omega_i(b)\\ ,\n",
    "\\end{equation}"
   ]
  },
  {
   "cell_type": "code",
   "execution_count": 9,
   "metadata": {},
   "outputs": [
    {
     "data": {
      "text/plain": [
       "[0.0588070856873823,\n",
       " 0.007510887476459511,\n",
       " 0.08008915960451977,\n",
       " 0.0849149599811676,\n",
       " 0.041942531779661014,\n",
       " 0.0904800788606403,\n",
       " 0.012682438794726929,\n",
       " 0.050490672080979286,\n",
       " 0.05113803554613936,\n",
       " 0.07445047669491525,\n",
       " 0.01191369467984934,\n",
       " 0.03564545080037665,\n",
       " 0.03793329213747646,\n",
       " 0.034310263653484,\n",
       " 0.045061646657250466,\n",
       " 0.048438235640301315,\n",
       " 0.040725047080979286,\n",
       " 0.059160193032015064,\n",
       " 0.0365981049905838,\n",
       " 0.0385549081920904,\n",
       " 0.059152836629001886]"
      ]
     },
     "execution_count": 9,
     "metadata": {},
     "output_type": "execute_result"
    }
   ],
   "source": [
    "#computing f0\n",
    "lF0 = []\n",
    "i,L=A.shape\n",
    "for x in range(i):\n",
    "    lF0.append((A[x].sum())/L)\n",
    "lF0"
   ]
  },
  {
   "cell_type": "markdown",
   "metadata": {},
   "source": [
    "Exercise 4: (à appliquer à testseq.txt): Déterminer l(bi,...,bi+L−1)  pour chaque sous-séquence de longueur L. \n",
    "Déterminer si il y a des sous-séquences de la famille definie par Dtrain. \n",
    "Tracer la log-vraisemblance en fonction de sa première position i = 0, ..., N − L.\n",
    "\\begin{equation}\n",
    "\\label{eq:ll}\n",
    "\\ell(b_0,...,b_{L-1}) = \\log_2 \\frac {P(b_0,...,b_{L-1} | \\omega )\n",
    "}{P^{(0)}(b_0,...,b_{L-1})}\n",
    "= \\sum_{i=0}^{L-1} \\log_2 \\frac {\\omega_i(b_i)}{f^{(0)}(b_i)}\\ .\n",
    "\\end{equation}"
   ]
  },
  {
   "cell_type": "markdown",
   "metadata": {},
   "source": [
    "4.1: Faites une fonction pour calculer la log-vraisemblance, d'une sequence de taille L."
   ]
  },
  {
   "cell_type": "code",
   "execution_count": 10,
   "metadata": {},
   "outputs": [],
   "source": [
    "#computing loglikehood\n",
    "\n",
    "def loglikehood(sequences,lF0):\n",
    "    pwm_test=weight(q,sequences)\n",
    "    l =[]\n",
    "    for i in range(len(sequences)):\n",
    "        s=0\n",
    "        for j in range(len(sequences[0])):\n",
    "            s+=np.log2(pwm_test[aa.index(sequences[i,j]),j]/lF0[aa.index(sequences[i,j])])\n",
    "        l.append(s)\n",
    "    return l\n"
   ]
  },
  {
   "cell_type": "markdown",
   "metadata": {},
   "source": [
    "4.2: Faites une fonction qui etant donner une sequence de taille superieur à L generer toutes les sous-séquences de taille L  "
   ]
  },
  {
   "cell_type": "code",
   "execution_count": 11,
   "metadata": {},
   "outputs": [],
   "source": [
    "#computing sliding_window \n",
    "\n",
    "def sliding_window(sequence,window):\n",
    "    sous_sequences = []\n",
    "    for i in range(len(sequence)-window):\n",
    "        sous_sequences.append(sequence[i:i+window])\n",
    "    return(sous_sequences)"
   ]
  },
  {
   "cell_type": "markdown",
   "metadata": {},
   "source": [
    "4.3: Calculer la log-vraisemblance pour toutes les sous-sequences trouvé à 4.2 et tracer un graphique de log-vraisemblance x position initialle de la sous-sequence."
   ]
  },
  {
   "cell_type": "code",
   "execution_count": 12,
   "metadata": {},
   "outputs": [],
   "source": [
    "#computing log-vraisemblance"
   ]
  },
  {
   "cell_type": "code",
   "execution_count": 13,
   "metadata": {},
   "outputs": [],
   "source": [
    "#ploting  log-vraisemblance x position initialle"
   ]
  },
  {
   "cell_type": "code",
   "execution_count": null,
   "metadata": {},
   "outputs": [],
   "source": []
  },
  {
   "cell_type": "code",
   "execution_count": null,
   "metadata": {},
   "outputs": [],
   "source": []
  },
  {
   "cell_type": "code",
   "execution_count": null,
   "metadata": {},
   "outputs": [],
   "source": []
  },
  {
   "cell_type": "code",
   "execution_count": null,
   "metadata": {},
   "outputs": [],
   "source": []
  },
  {
   "cell_type": "code",
   "execution_count": null,
   "metadata": {},
   "outputs": [],
   "source": []
  }
 ],
 "metadata": {
  "celltoolbar": "Raw Cell Format",
  "kernelspec": {
   "display_name": "Python 3",
   "language": "python",
   "name": "python3"
  },
  "language_info": {
   "codemirror_mode": {
    "name": "ipython",
    "version": 3
   },
   "file_extension": ".py",
   "mimetype": "text/x-python",
   "name": "python",
   "nbconvert_exporter": "python",
   "pygments_lexer": "ipython3",
   "version": "3.7.3"
  }
 },
 "nbformat": 4,
 "nbformat_minor": 4
}
